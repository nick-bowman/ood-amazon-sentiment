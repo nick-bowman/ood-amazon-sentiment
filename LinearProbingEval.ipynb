{
 "cells": [
  {
   "cell_type": "code",
   "execution_count": 1,
   "id": "cb0f62c8",
   "metadata": {},
   "outputs": [],
   "source": [
    "from transformers import RobertaForSequenceClassification\n",
    "import pathlib\n",
    "from preprocessing import generate_preprocessed_dataset"
   ]
  },
  {
   "cell_type": "code",
   "execution_count": 2,
   "id": "cc607016",
   "metadata": {},
   "outputs": [
    {
     "name": "stderr",
     "output_type": "stream",
     "text": [
      "Using custom data configuration default-f3d99eb72dea94e9\n",
      "Reusing dataset json (/scr/scr-with-most-space/amazon-sentiment/cache/datasets/json/default-f3d99eb72dea94e9/0.0.0/83d5b3a2f62630efc6b5315f00f20209b4ad91a00ac586597caee3a4da0bef02)\n",
      "Loading cached shuffled indices for dataset at /scr/scr-with-most-space/amazon-sentiment/cache/datasets/json/default-f3d99eb72dea94e9/0.0.0/83d5b3a2f62630efc6b5315f00f20209b4ad91a00ac586597caee3a4da0bef02/cache-7e36f4fe59ce4b8e.arrow\n",
      "Loading cached processed dataset at /scr/scr-with-most-space/amazon-sentiment/cache/datasets/json/default-f3d99eb72dea94e9/0.0.0/83d5b3a2f62630efc6b5315f00f20209b4ad91a00ac586597caee3a4da0bef02/cache-0cbc0b775409e825.arrow\n"
     ]
    },
    {
     "data": {
      "application/vnd.jupyter.widget-view+json": {
       "model_id": "06bca4c3fa744cb9ba2afea7128eb42c",
       "version_major": 2,
       "version_minor": 0
      },
      "text/plain": [
       "HBox(children=(FloatProgress(value=0.0, max=2.0), HTML(value='')))"
      ]
     },
     "metadata": {},
     "output_type": "display_data"
    },
    {
     "name": "stdout",
     "output_type": "stream",
     "text": [
      "\n",
      "Num negative:  256\n"
     ]
    },
    {
     "data": {
      "application/vnd.jupyter.widget-view+json": {
       "model_id": "85996d5eae0b4493afb027fdfe8f50ee",
       "version_major": 2,
       "version_minor": 0
      },
      "text/plain": [
       "HBox(children=(FloatProgress(value=0.0, max=2.0), HTML(value='')))"
      ]
     },
     "metadata": {},
     "output_type": "display_data"
    },
    {
     "name": "stdout",
     "output_type": "stream",
     "text": [
      "\n",
      "Num neutral:  113\n"
     ]
    },
    {
     "data": {
      "application/vnd.jupyter.widget-view+json": {
       "model_id": "cbd9a11a5e6d4f0aa4b94599a14e7375",
       "version_major": 2,
       "version_minor": 0
      },
      "text/plain": [
       "HBox(children=(FloatProgress(value=0.0, max=2.0), HTML(value='')))"
      ]
     },
     "metadata": {},
     "output_type": "display_data"
    },
    {
     "name": "stdout",
     "output_type": "stream",
     "text": [
      "\n",
      "Num positive:  1631\n"
     ]
    },
    {
     "name": "stderr",
     "output_type": "stream",
     "text": [
      "Loading cached processed dataset at /scr/scr-with-most-space/amazon-sentiment/cache/datasets/json/default-f3d99eb72dea94e9/0.0.0/83d5b3a2f62630efc6b5315f00f20209b4ad91a00ac586597caee3a4da0bef02/cache-5babb4cd633b091f.arrow\n",
      "Loading cached processed dataset at /scr/scr-with-most-space/amazon-sentiment/cache/datasets/json/default-f3d99eb72dea94e9/0.0.0/83d5b3a2f62630efc6b5315f00f20209b4ad91a00ac586597caee3a4da0bef02/cache-7dc0497f53a4492a.arrow\n"
     ]
    },
    {
     "data": {
      "application/vnd.jupyter.widget-view+json": {
       "model_id": "04b84b12110e440dbdc1e88c7a16316a",
       "version_major": 2,
       "version_minor": 0
      },
      "text/plain": [
       "HBox(children=(FloatProgress(value=0.0, max=1.0), HTML(value='')))"
      ]
     },
     "metadata": {},
     "output_type": "display_data"
    },
    {
     "name": "stdout",
     "output_type": "stream",
     "text": [
      "\n"
     ]
    }
   ],
   "source": [
    "dataset = generate_preprocessed_dataset('Appliances', 2000)"
   ]
  },
  {
   "cell_type": "code",
   "execution_count": null,
   "id": "828c23b5",
   "metadata": {},
   "outputs": [],
   "source": [
    "dataset.set_format('torch', columns=['input_ids', 'attention_mask', 'label'])"
   ]
  },
  {
   "cell_type": "code",
   "execution_count": null,
   "id": "2fc51123",
   "metadata": {},
   "outputs": [],
   "source": [
    "dataset[0]"
   ]
  },
  {
   "cell_type": "code",
   "execution_count": null,
   "id": "04c36520",
   "metadata": {
    "scrolled": true
   },
   "outputs": [],
   "source": [
    "encoded_dataset = load_from_disk('/scr/amazon-sentiment/processed_datasets/Appliances_5_Processed')\n",
    "encoded_dataset.set_format('torch', columns=['input_ids', 'attention_mask', 'label'])"
   ]
  },
  {
   "cell_type": "code",
   "execution_count": null,
   "id": "6d03c5b4",
   "metadata": {},
   "outputs": [],
   "source": [
    "new_features = encoded_dataset.features.copy()\n",
    "new_features['label'] = ClassLabel(names=['negative', 'neutral', 'positive'])\n",
    "encoded_dataset = encoded_dataset.cast(new_features)"
   ]
  },
  {
   "cell_type": "code",
   "execution_count": null,
   "id": "23edda5b",
   "metadata": {},
   "outputs": [],
   "source": [
    "encoded_dataset = load_from_disk('/scr/amazon-sentiment/processed_datasets/Appliances_5_Processed')\n",
    "encoded_dataset.set_format('torch', columns=['label'])\n",
    "encoded_dataset[0]"
   ]
  },
  {
   "cell_type": "code",
   "execution_count": 4,
   "id": "c4256677",
   "metadata": {
    "scrolled": true
   },
   "outputs": [],
   "source": [
    "#pretrained_model = RobertaForSequenceClassification.from_pretrained('roberta-base', num_labels=3)\n",
    "domain_pretrained_model = RobertaForSequenceClassification.from_pretrained(pathlib.Path('./results/datasetAppliances_datasetsize2000_linear'), num_labels=3)"
   ]
  },
  {
   "cell_type": "code",
   "execution_count": null,
   "id": "bb8c7f76",
   "metadata": {},
   "outputs": [],
   "source": [
    "from transformers import TrainingArguments\n",
    "training_args = TrainingArguments(\"test_trainer\")\n",
    "from transformers import Trainer\n",
    "trainer = Trainer(\n",
    "    model=pretrained_model, args=training_args, train_dataset=dataset\n",
    ")"
   ]
  },
  {
   "cell_type": "code",
   "execution_count": null,
   "id": "603e54ff",
   "metadata": {},
   "outputs": [],
   "source": [
    "trainer.train()"
   ]
  },
  {
   "cell_type": "code",
   "execution_count": null,
   "id": "6ef94d79",
   "metadata": {
    "scrolled": true
   },
   "outputs": [],
   "source": [
    "domain_pretrained_model(input_ids=dataset[0]['input_ids'],  attention_mask=dataset[0]['attention_mask'])"
   ]
  },
  {
   "cell_type": "code",
   "execution_count": null,
   "id": "4ee34b76",
   "metadata": {},
   "outputs": [],
   "source": [
    "encoded_dataset[0]"
   ]
  },
  {
   "cell_type": "code",
   "execution_count": null,
   "id": "1a4f2adf",
   "metadata": {},
   "outputs": [],
   "source": []
  }
 ],
 "metadata": {
  "kernelspec": {
   "display_name": ".env",
   "language": "python",
   "name": ".env"
  },
  "language_info": {
   "codemirror_mode": {
    "name": "ipython",
    "version": 3
   },
   "file_extension": ".py",
   "mimetype": "text/x-python",
   "name": "python",
   "nbconvert_exporter": "python",
   "pygments_lexer": "ipython3",
   "version": "3.8.5"
  }
 },
 "nbformat": 4,
 "nbformat_minor": 5
}
